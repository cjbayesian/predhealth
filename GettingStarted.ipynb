{
 "cells": [
  {
   "cell_type": "code",
   "execution_count": 1,
   "metadata": {},
   "outputs": [
    {
     "name": "stdout",
     "output_type": "stream",
     "text": [
      "Populating the interactive namespace from numpy and matplotlib\n"
     ]
    }
   ],
   "source": [
    "%pylab inline"
   ]
  },
  {
   "cell_type": "code",
   "execution_count": 8,
   "metadata": {},
   "outputs": [],
   "source": [
    "import pandas as pd\n",
    "\n",
    "pd.set_option('display.max_columns', 100)\n",
    "pd.set_option('display.max_rows', 100)"
   ]
  },
  {
   "cell_type": "code",
   "execution_count": 9,
   "metadata": {},
   "outputs": [
    {
     "name": "stdout",
     "output_type": "stream",
     "text": [
      "Microsoft SQL Server 2016 (SP1-CU7-GDR) (KB4057119) - 13.0.4466.4 (X64) \n",
      "\tDec 22 2017 11:25:00 \n",
      "\tCopyright (c) Microsoft Corporation\n",
      "\tEnterprise Edition: Core-based Licensing (64-bit) on Windows Server 2012 R2 Standard 6.3 <X64> (Build 9600: ) (Hypervisor)\n",
      "\n"
     ]
    }
   ],
   "source": [
    "## clarity database connection\n",
    "import yaml\n",
    "from sqlalchemy import create_engine\n",
    "\n",
    "with open('clarity_creds.yaml') as credsfile:\n",
    "    clarity_creds = yaml.safe_load(credsfile)\n",
    "\n",
    "\n",
    "def createMSSQLconnection(database='clarity_snapshot_db', domain='UPHS', port='1433', timeout=3000):\n",
    "    password = clarity_creds['password']\n",
    "    username = clarity_creds['user']\n",
    "    host = clarity_creds['server']\n",
    "    user=domain+'\\\\'+username\n",
    "    return create_engine('mssql+pymssql://{}:{}@{}:{}/{}?timeout={}'.format(user, password, host, port, database, timeout))\n",
    " \n",
    "def get_res_dict(q, conn):\n",
    "    res = conn.execute(q)\n",
    "    data = res.fetchall()\n",
    "    data_d =  [dict(zip(res.keys(), r)) for r in data]\n",
    "    return data_d\n",
    " \n",
    "def SQLquery2df(q, conn):\n",
    "    return pd.DataFrame(get_res_dict(q, conn))\n",
    "    \n",
    "conn = createMSSQLconnection()\n",
    "print(conn.execute(\"select @@VERSION\").fetchall()[0][0])"
   ]
  },
  {
   "cell_type": "code",
   "execution_count": 12,
   "metadata": {},
   "outputs": [
    {
     "data": {
      "text/plain": [
       "(433597, 28)"
      ]
     },
     "execution_count": 12,
     "metadata": {},
     "output_type": "execute_result"
    }
   ],
   "source": [
    "q = \"\"\"\n",
    "-- MEWS\n",
    "select\n",
    "  FLO_MEAS_NAME,\n",
    "  pat.PAT_MRN_ID,\n",
    "  pat.BIRTH_DATE,\n",
    "  peh.PAT_ENC_CSN_ID,\n",
    "  peh.HOSP_ADMSN_TIME,\n",
    "  peh.HOSP_DISCH_TIME,\n",
    "  peh.INP_ADM_DATE,\n",
    "  dep.DEPARTMENT_NAME,\n",
    "  dep.DEPT_ABBREVIATION,\n",
    "  RECORDED_TIME,\n",
    "  ENTRY_TIME,\n",
    "  TAKEN_USER_ID,\n",
    "  ENTRY_USER_ID,\n",
    "  MEAS_VALUE,\n",
    "  MEAS_COMMENT,\n",
    "  ISACCEPTED_YN,\n",
    "  NEEDS_COSIGN_C,\n",
    "  FLT_ID,\n",
    "  FLO_DAT_USED,\n",
    "  meas.UPDATE_DATE,\n",
    "  FLO_CNCT_DATE_REAL,\n",
    "  DOCUMENTATION_SOURCE_C,\n",
    "  dat.FLO_MEAS_ID,\n",
    "  DISP_NAME,\n",
    "  ROW_TYP_C,\n",
    "  VAL_TYPE_C,\n",
    "  UNITS,\n",
    "  DUPLICATABLE_YN\n",
    "  FROM IP_FLWSHT_MEAS meas\n",
    "  LEFT JOIN IP_FLO_GP_DATA dat\n",
    "    ON dat.FLO_MEAS_ID = meas.FLO_MEAS_ID  -- and  UPPER(dat.FLO_MEAS_NAME) like '%RIGHTCARE%'\n",
    "    INNER JOIN IP_FLWSHT_REC rec\n",
    "        ON rec.FSD_ID = meas.FSD_ID\n",
    "    INNER JOIN PAT_ENC_HSP peh\n",
    "        ON rec.INPATIENT_DATA_ID = peh.INPATIENT_DATA_ID\n",
    "    INNER JOIN PATIENT pat\n",
    "        ON peh.PAT_ID = pat.PAT_ID\n",
    "    INNER JOIN CLARITY_DEP dep on peh.DEPARTMENT_ID = dep.DEPARTMENT_ID\n",
    "WHERE meas.ENTRY_TIME > CAST('2020-06-10' AS DATE)\n",
    "AND INP_ADM_DATE >  CAST('2020-06-01' AS DATE)\n",
    "AND dat.DISP_NAME in ('Resp',\n",
    "           'Pulse',\n",
    "           'Temp',\n",
    "           'BP',\n",
    "           'Level of Consciousness',\n",
    "           'Level of consciousness',\n",
    "           'Altered Level of Consciousness',\n",
    "           'Urine Output (mL)',\n",
    "           'Calculated Urine (mL)',\n",
    "           'Urine');\n",
    "\"\"\"\n",
    "\n",
    "\n",
    "mews = SQLquery2df(q,conn)\n",
    "mews.shape"
   ]
  },
  {
   "cell_type": "code",
   "execution_count": null,
   "metadata": {},
   "outputs": [],
   "source": []
  }
 ],
 "metadata": {
  "kernelspec": {
   "display_name": "Python 3",
   "language": "python",
   "name": "python3"
  },
  "language_info": {
   "codemirror_mode": {
    "name": "ipython",
    "version": 3
   },
   "file_extension": ".py",
   "mimetype": "text/x-python",
   "name": "python",
   "nbconvert_exporter": "python",
   "pygments_lexer": "ipython3",
   "version": "3.7.7"
  }
 },
 "nbformat": 4,
 "nbformat_minor": 4
}
